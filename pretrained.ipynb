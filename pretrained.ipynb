{
 "cells": [
  {
   "cell_type": "code",
   "id": "initial_id",
   "metadata": {
    "collapsed": true,
    "ExecuteTime": {
     "end_time": "2025-01-05T17:30:24.123200Z",
     "start_time": "2025-01-05T17:30:24.085408Z"
    }
   },
   "source": [
    "import torch\n",
    "from PIL import Image\n",
    "import matplotlib.pyplot as plt\n",
    "\n",
    "try:\n",
    "    from transformers import AutoModel, AutoTokenizer, AutoImageProcessor, ViTMAEForPreTraining\n",
    "    from sentencepiece import SentencePieceProcessor\n",
    "    print(\"Imports successful\")\n",
    "except Exception as e:\n",
    "    print(f\"YUUUH: {e}\")\n",
    "\n",
    "\n",
    "# get the crew together\n",
    "processor = AutoImageProcessor.from_pretrained(\"facebook/vit-mae-base\")\n",
    "model = ViTMAEForPreTraining.from_pretrained(\"facebook/vit-mae-base\")\n",
    "\n",
    "# load & convert image like christopher converting to acting\n",
    "image = Image.open('/C:\\\\Users\\\\Askou\\\\Pictures\\\\Cat\\\\Gaming.png').convert('RGB')\n",
    "\n",
    "# process it\n",
    "inputs = processor(images=image, return_tensors=\"pt\")\n",
    "\n",
    "# reconstruct that thing\n",
    "with torch.no_grad():\n",
    "    outputs = model(**inputs)\n",
    "    reconstruction = model.unpatchify(outputs.logits)\n",
    "\n",
    "# make it viewable (sigmoid bc the model outputs logits like junior outputs bad decisions)\n",
    "reconstruction = torch.sigmoid(reconstruction)\n",
    "reconstruction = reconstruction.cpu().numpy()\n",
    "\n",
    "# visualization time\n",
    "plt.figure(figsize=(10, 5))\n",
    "plt.subplot(1, 2, 1)\n",
    "plt.imshow(image)\n",
    "plt.title(\"og image\")\n",
    "plt.subplot(1, 2, 2)\n",
    "plt.imshow(reconstruction[0].transpose(1, 2, 0))\n",
    "plt.title(\"reconstruction\")\n",
    "plt.show()\n"
   ],
   "outputs": [
    {
     "name": "stdout",
     "output_type": "stream",
     "text": [
      "YUUUH: Failed to import transformers.models.auto.image_processing_auto because of the following error (look up to see its traceback):\n",
      "cannot import name 'is_torchvision_v2_available' from 'transformers.utils.import_utils' (C:\\Users\\Askou\\PycharmProjects\\AML4KCS2024-NLP\\venv\\Lib\\site-packages\\transformers\\utils\\import_utils.py)\n"
     ]
    },
    {
     "ename": "NameError",
     "evalue": "name 'AutoImageProcessor' is not defined",
     "output_type": "error",
     "traceback": [
      "\u001B[1;31m---------------------------------------------------------------------------\u001B[0m",
      "\u001B[1;31mNameError\u001B[0m                                 Traceback (most recent call last)",
      "Cell \u001B[1;32mIn[3], line 14\u001B[0m\n\u001B[0;32m     10\u001B[0m     \u001B[38;5;28mprint\u001B[39m(\u001B[38;5;124mf\u001B[39m\u001B[38;5;124m\"\u001B[39m\u001B[38;5;124mYUUUH: \u001B[39m\u001B[38;5;132;01m{\u001B[39;00me\u001B[38;5;132;01m}\u001B[39;00m\u001B[38;5;124m\"\u001B[39m)\n\u001B[0;32m     13\u001B[0m \u001B[38;5;66;03m# get the crew together\u001B[39;00m\n\u001B[1;32m---> 14\u001B[0m processor \u001B[38;5;241m=\u001B[39m \u001B[43mAutoImageProcessor\u001B[49m\u001B[38;5;241m.\u001B[39mfrom_pretrained(\u001B[38;5;124m\"\u001B[39m\u001B[38;5;124mfacebook/vit-mae-base\u001B[39m\u001B[38;5;124m\"\u001B[39m)\n\u001B[0;32m     15\u001B[0m model \u001B[38;5;241m=\u001B[39m ViTMAEForPreTraining\u001B[38;5;241m.\u001B[39mfrom_pretrained(\u001B[38;5;124m\"\u001B[39m\u001B[38;5;124mfacebook/vit-mae-base\u001B[39m\u001B[38;5;124m\"\u001B[39m)\n\u001B[0;32m     17\u001B[0m \u001B[38;5;66;03m# load & convert image like christopher converting to acting\u001B[39;00m\n",
      "\u001B[1;31mNameError\u001B[0m: name 'AutoImageProcessor' is not defined"
     ]
    }
   ],
   "execution_count": 3
  },
  {
   "metadata": {
    "ExecuteTime": {
     "end_time": "2025-01-05T17:30:30.975555Z",
     "start_time": "2025-01-05T17:30:30.971615Z"
    }
   },
   "cell_type": "code",
   "source": [
    "import torch\n",
    "print(f\"torch: {torch.__version__}\")\n",
    "\n",
    "import PIL\n",
    "print(f\"pillow: {PIL.__version__}\")\n",
    "\n",
    "import transformers\n",
    "print(f\"transformers: {transformers.__version__}\")\n",
    "\n",
    "import matplotlib\n",
    "print(f\"matplotlib: {matplotlib.__version__}\")\n",
    "\n",
    "import numpy as np\n",
    "print(f\"numpy: {np.__version__}\")"
   ],
   "id": "51619cadc48c353f",
   "outputs": [
    {
     "name": "stdout",
     "output_type": "stream",
     "text": [
      "torch: 2.5.0+cpu\n",
      "pillow: 11.0.0\n",
      "transformers: 4.45.2\n",
      "matplotlib: 3.9.2\n",
      "numpy: 2.0.2\n"
     ]
    }
   ],
   "execution_count": 4
  },
  {
   "metadata": {},
   "cell_type": "code",
   "outputs": [],
   "execution_count": null,
   "source": "",
   "id": "f186ce6d84338773"
  }
 ],
 "metadata": {
  "kernelspec": {
   "display_name": "Python 3",
   "language": "python",
   "name": "python3"
  },
  "language_info": {
   "codemirror_mode": {
    "name": "ipython",
    "version": 2
   },
   "file_extension": ".py",
   "mimetype": "text/x-python",
   "name": "python",
   "nbconvert_exporter": "python",
   "pygments_lexer": "ipython2",
   "version": "2.7.6"
  }
 },
 "nbformat": 4,
 "nbformat_minor": 5
}
